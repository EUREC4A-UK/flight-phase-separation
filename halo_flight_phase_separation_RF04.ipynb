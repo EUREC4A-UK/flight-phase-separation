{
 "cells": [
  {
   "cell_type": "code",
   "execution_count": null,
   "metadata": {},
   "outputs": [],
   "source": [
    "import matplotlib.pyplot as plt\n",
    "import numpy as np\n",
    "import xarray as xr\n",
    "import pandas as pd\n",
    "from datetime import datetime, timedelta\n",
    "import sys\n",
    "sys.path.append(\"/Users/mprange/PycharmProjects/flight_phase_seperation/\")\n",
    "\n",
    "\n",
    "from typhon.plots import worldmap\n",
    "import FlightPhaseTools as fpt"
   ]
  },
  {
   "cell_type": "markdown",
   "metadata": {},
   "source": [
    "# Load data into xarray datasets."
   ]
  },
  {
   "cell_type": "code",
   "execution_count": null,
   "metadata": {},
   "outputs": [],
   "source": [
    "bahamas = xr.open_dataset('/Users/mprange/Desktop/halo_unified/unified/bahamas_20200126_v0.4.nc')\n",
    "dropsondes = xr.open_dataset('/Users/mprange/Desktop/halo_unified/unified/dropsondes_20200126_v0.4.nc')"
   ]
  },
  {
   "cell_type": "markdown",
   "metadata": {},
   "source": [
    "# Determine the timestamps of the different flight phases using the FlightPhaseTools module."
   ]
  },
  {
   "cell_type": "code",
   "execution_count": null,
   "metadata": {},
   "outputs": [],
   "source": [
    "takeoff = 0\n",
    "touchdown = len(bahamas['time']) - 1\n",
    "min_roll_b4_supercurtain = fpt.min_timestamp_ind(bahamas, 'roll', \n",
    "                                                 slice('2020-01-26T12:00:00', '2020-01-26T12:15:00'), \n",
    "                                                order=1000)\n",
    "enter_supercurtain = fpt.find_first_value_after_ts_ind(\n",
    "    bahamas, quantity='roll', timestamp_ind=min_roll_b4_supercurtain, apr_value=0., margin=0.1)\n",
    "max_roll_after_supercurtain = fpt.max_timestamp_ind(bahamas, 'heading', \n",
    "                                               slice('2020-01-26T12:15:00', '2020-01-26T12:22:00'),\n",
    "                                               order=100)\n",
    "exit_supercurtain = fpt.find_first_value_before_ts_ind(\n",
    "    bahamas, quantity='roll', timestamp_ind=max_roll_after_supercurtain, apr_value=0., margin=0.1)\n",
    "enter_c1 = fpt.ds_timestamp_ind(bahamas, dropsondes, 0) # Why start at 17° heading? Why is there a 20° step?\n",
    "exit_c1 = fpt.ds_timestamp_ind(bahamas, dropsondes, 11)\n",
    "enter_c2 = fpt.ds_timestamp_ind(bahamas, dropsondes, 12) # Why is there a 150° pause between sonde 12 and 13?\n",
    "exit_c2 = fpt.ds_timestamp_ind(bahamas, dropsondes, 21) # Two dropsondes failed or are missing. One noted in log.\n",
    "enter_c3 = fpt.ds_timestamp_ind(bahamas, dropsondes, 22)\n",
    "exit_c3 = fpt.ds_timestamp_ind(bahamas, dropsondes, 32)\n",
    "enter_leg1 = fpt.find_first_value_after_ts_ind(bahamas, quantity='roll', timestamp_ind=exit_c3, \n",
    "                                               apr_value=0., margin=0.1)\n",
    "min_heading_after_leg1 = fpt.min_timestamp_ind(bahamas, 'heading', \n",
    "                                               slice('2020-01-26T16:00:00', '2020-01-26T16:15:00'),\n",
    "                                               order=1000)\n",
    "exit_leg1 = fpt.find_first_value_before_ts_ind(bahamas, quantity='roll', timestamp_ind=min_heading_after_leg1, \n",
    "                                               apr_value=0., margin=0.1)\n",
    "max_roll_after_leg1 = fpt.max_timestamp_ind(bahamas, 'roll', \n",
    "                                               slice(bahamas['time'][exit_leg1], '2020-01-26T16:15:00'),\n",
    "                                               order=1000)\n",
    "enter_leg2 = fpt.find_first_value_after_ts_ind(bahamas, quantity='roll', timestamp_ind=max_roll_after_leg1, \n",
    "                                               apr_value=0., margin=0.1)\n",
    "min_heading_after_leg2 = fpt.min_timestamp_ind(bahamas, 'heading', \n",
    "                                               slice('2020-01-26T16:30:00', '2020-01-26T16:45:00'),\n",
    "                                               order=1000)\n",
    "exit_leg2 = fpt.find_first_value_before_ts_ind(bahamas, quantity='roll', timestamp_ind=min_heading_after_leg2, \n",
    "                                               apr_value=0., margin=0.1)\n",
    "max_roll_after_leg2 = fpt.max_timestamp_ind(bahamas, 'roll', \n",
    "                                            slice(bahamas['time'][exit_leg2], '2020-01-26T16:45:00'),\n",
    "                                            order=1000)\n",
    "enter_leg3 = fpt.find_first_value_after_ts_ind(bahamas, quantity='roll', timestamp_ind=max_roll_after_leg2, \n",
    "                                               apr_value=0., margin=0.1)\n",
    "min_heading_after_leg3 = fpt.min_timestamp_ind(bahamas, 'heading', \n",
    "                                               slice('2020-01-26T16:45:00', '2020-01-26T17:00:00'),\n",
    "                                               order=1000)\n",
    "exit_leg3 = fpt.find_first_value_before_ts_ind(bahamas, quantity='roll', timestamp_ind=min_heading_after_leg3, \n",
    "                                               apr_value=0., margin=0.1)\n",
    "max_roll_after_leg3 = fpt.max_timestamp_ind(bahamas, 'roll', \n",
    "                                            slice(bahamas['time'][exit_leg3], '2020-01-26T17:00:00'),\n",
    "                                            order=1000)\n",
    "enter_leg4 = fpt.find_first_value_after_ts_ind(bahamas, quantity='roll', timestamp_ind=max_roll_after_leg3, \n",
    "                                               apr_value=0., margin=0.1)\n",
    "min_heading_after_leg4 = fpt.min_timestamp_ind(bahamas, 'heading', \n",
    "                                               slice('2020-01-26T17:00:00', '2020-01-26T17:20:00'),\n",
    "                                               order=1000)\n",
    "exit_leg4 = fpt.find_first_value_before_ts_ind(bahamas, quantity='roll', timestamp_ind=min_heading_after_leg4, \n",
    "                                               apr_value=0., margin=0.1)\n",
    "enter_c4 = fpt.ds_timestamp_ind(bahamas, dropsondes, 36)\n",
    "exit_c4 = fpt.ds_timestamp_ind(bahamas, dropsondes, 47)\n",
    "enter_c5 = fpt.ds_timestamp_ind(bahamas, dropsondes, 48)\n",
    "exit_c5 = fpt.ds_timestamp_ind(bahamas, dropsondes, 58)\n",
    "enter_c6 = fpt.ds_timestamp_ind(bahamas, dropsondes, 59)\n",
    "exit_c6 = fpt.ds_timestamp_ind(bahamas, dropsondes, 70)\n",
    "enter_lidar_cal = fpt.find_first_value_after_ts_ind(bahamas, 'altitude', exit_c6, 5090., 1.)\n",
    "exit_lidar_cal = fpt.find_first_value_after_ts_ind(bahamas, 'altitude', enter_lidar_cal, 5089.5, 1.)\n",
    "ts_ind_list = [enter_supercurtain, \n",
    "               exit_supercurtain, enter_c1, exit_c1, \n",
    "               enter_c2, exit_c2, enter_c3, exit_c3, \n",
    "               enter_leg1, exit_leg1, enter_leg2, exit_leg2, \n",
    "               enter_leg3, exit_leg3, enter_leg4, exit_leg4, \n",
    "               enter_c4, exit_c4, enter_c5, exit_c5, \n",
    "               enter_c6, exit_c6, enter_lidar_cal, exit_lidar_cal]\n",
    "label_list = [\n",
    "              \"enter_supercurtain\", \"exit_supercurtain\",\n",
    "              \"enter_c1\", \"exit_c1\",\"enter_c2\", \"exit_c2\", \n",
    "              \"enter_c3\", \"exit_c3\", \"enter_leg1\", \"exit_leg1\", \n",
    "              \"enter_leg2\", \"exit_leg2\",\"enter_leg3\", \"exit_leg3\", \n",
    "              \"enter_leg4\", \"exit_leg4\", \"enter_c4\", \"exit_c4\",\n",
    "              \"enter_c5\", \"exit_c5\", \"enter_c6\", \"exit_c6\", \n",
    "              \"enter_lidar_cal\", \"exit_lidar_cal\"]"
   ]
  },
  {
   "cell_type": "markdown",
   "metadata": {},
   "source": [
    "# Plot basic timeseries of bahamas data with markers for determined timestamps to manually evaluate the validity of the timestamps."
   ]
  },
  {
   "cell_type": "code",
   "execution_count": null,
   "metadata": {
    "scrolled": false
   },
   "outputs": [],
   "source": [
    "fig, ax = fpt.plot_bahamas_timeseries(bahamas, ts_ind_list, label_list)"
   ]
  },
  {
   "cell_type": "markdown",
   "metadata": {},
   "source": [
    "# Create xarray datasets of the determined flight phase timestamps and store them as NetCDF files."
   ]
  },
  {
   "cell_type": "markdown",
   "metadata": {},
   "source": [
    "## Version 2"
   ]
  },
  {
   "cell_type": "code",
   "execution_count": null,
   "metadata": {
    "scrolled": false
   },
   "outputs": [],
   "source": [
    "timestamps = fpt.get_unixtime(bahamas['time'][ts_ind_list].values.reshape((int(len(ts_ind_list) / 2), 2)))\n",
    "flight_phases = np.array(['super_curtain', 'c1', 'c2', 'c3',\n",
    "                          'leg1', 'leg2', 'leg3', 'leg4', 'c4', \n",
    "                          'c5', 'c6', 'lidar_calibration'])\n",
    "flight_phase_ds = xr.Dataset(\n",
    "    {\n",
    "        \"flight_phase\": xr.DataArray(flight_phases, dims=(\"flight_phase\",)),\n",
    "        \"start_end\": xr.DataArray([\"phase_start\", \"phase_end\"], dims=(\"start_end\",)),\n",
    "        \"timestamp\": xr.DataArray(timestamps, dims=(\"flight_phase\", \"start_end\")),\n",
    "    }, \n",
    "    attrs={\n",
    "        'mission': bahamas.attrs['mission'],\n",
    "        'flight_number': bahamas.attrs['flight_number'],\n",
    "        'flight_date': str(pd.to_datetime(bahamas['time'][0].values).date()), \n",
    "        'takeoff': str(bahamas['time'][takeoff].values),\n",
    "        'touchdown': str(bahamas['time'][touchdown].values),\n",
    "        'contact': 'marc.prange@uni-hamburg.de',\n",
    "        })\n",
    "flight_phase_ds"
   ]
  },
  {
   "cell_type": "code",
   "execution_count": null,
   "metadata": {},
   "outputs": [],
   "source": [
    "flight_phase_ds.to_netcdf(\n",
    "    f'flight_phase_files/RF_{flight_phase_ds.flight_number}_' \\\n",
    "    f'{flight_phase_ds.flight_date}_flight_phase_timestamps_v2.nc')"
   ]
  },
  {
   "cell_type": "code",
   "execution_count": null,
   "metadata": {},
   "outputs": [],
   "source": [
    "worldmap(bahamas['lat'], bahamas['lon'])\n",
    "worldmap(bahamas['lat'][enter_supercurtain], bahamas['lon'][enter_supercurtain], s=50, color='lightgreen')\n",
    "worldmap(bahamas['lat'][exit_supercurtain], bahamas['lon'][exit_supercurtain], s=50, color='orange')\n",
    "worldmap(bahamas['lat'][enter_c1], bahamas['lon'][enter_c1], s=50, color='green')\n",
    "worldmap(bahamas['lat'][exit_c1], bahamas['lon'][exit_c1], s=50, color='red')\n",
    "worldmap(bahamas['lat'][enter_c2], bahamas['lon'][enter_c2], s=50, color='green')\n",
    "worldmap(bahamas['lat'][exit_c2], bahamas['lon'][exit_c2], s=50, color='red')\n",
    "worldmap(bahamas['lat'][enter_c3], bahamas['lon'][enter_c3], s=50, color='green')\n",
    "worldmap(bahamas['lat'][exit_c3], bahamas['lon'][exit_c3], s=50, color='red')"
   ]
  }
 ],
 "metadata": {
  "kernelspec": {
   "display_name": "Python 3",
   "language": "python",
   "name": "python3"
  },
  "language_info": {
   "codemirror_mode": {
    "name": "ipython",
    "version": 3
   },
   "file_extension": ".py",
   "mimetype": "text/x-python",
   "name": "python",
   "nbconvert_exporter": "python",
   "pygments_lexer": "ipython3",
   "version": "3.7.4"
  }
 },
 "nbformat": 4,
 "nbformat_minor": 2
}
