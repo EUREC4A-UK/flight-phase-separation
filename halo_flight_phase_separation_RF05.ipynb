{
 "cells": [
  {
   "cell_type": "code",
   "execution_count": null,
   "metadata": {},
   "outputs": [],
   "source": [
    "import matplotlib.pyplot as plt\n",
    "import numpy as np\n",
    "import xarray as xr\n",
    "import pandas as pd\n",
    "import sys\n",
    "sys.path.append(\"/Users/mprange/PycharmProjects/flight_phase_seperation/\")\n",
    "\n",
    "import FlightPhaseTools as fpt\n",
    "from ResearchFlight import ResearchFlight\n",
    "from ResearchFlightSegment import ResearchFlightSegment"
   ]
  },
  {
   "cell_type": "markdown",
   "metadata": {},
   "source": [
    "# Load data into xarray datasets using typhon FileSet objects."
   ]
  },
  {
   "cell_type": "code",
   "execution_count": null,
   "metadata": {},
   "outputs": [],
   "source": [
    "bahamas = xr.open_dataset('/Users/mprange/Desktop/halo_unified/unified/bahamas_20200128_v0.4.nc')\n",
    "dropsondes = xr.open_dataset('/Users/mprange/Desktop/halo_unified/unified/dropsondes_20200128_v0.4.nc')"
   ]
  },
  {
   "cell_type": "markdown",
   "metadata": {},
   "source": [
    "# Determine the timestamps of the different flight phases using the FlightPhaseTools module."
   ]
  },
  {
   "cell_type": "code",
   "execution_count": null,
   "metadata": {},
   "outputs": [],
   "source": [
    "takeoff = 0\n",
    "touchdown = len(bahamas['time']) - 1\n",
    "enter_c1 = fpt.ds_timestamp_ind(bahamas, dropsondes, 0)\n",
    "exit_c1 = fpt.ds_timestamp_ind(bahamas, dropsondes, 11)\n",
    "enter_c2 = fpt.ds_timestamp_ind(bahamas, dropsondes, 12)\n",
    "exit_c2 = fpt.ds_timestamp_ind(bahamas, dropsondes, 23)\n",
    "enter_c3 = fpt.ds_timestamp_ind(bahamas, dropsondes, 24)\n",
    "exit_c3 = fpt.ds_timestamp_ind(bahamas, dropsondes, 34)\n",
    "max_roll_b4_leg1 = fpt.max_timestamp_ind(bahamas, 'roll', \n",
    "          slice('2020-01-28T18:30:00', '2020-01-28T19:00:00'),\n",
    "          order=500\n",
    "                                        )\n",
    "enter_leg1 = fpt.find_first_value_after_ts_ind(bahamas, 'roll', max_roll_b4_leg1, 0., 0.05)\n",
    "max_roll_after_leg1 = fpt.max_timestamp_ind(bahamas, 'roll', \n",
    "          slice('2020-01-28T19:00:00', '2020-01-28T19:20:00'),\n",
    "          order=500\n",
    "         )\n",
    "exit_leg1 = fpt.find_first_value_before_ts_ind(bahamas, 'roll', max_roll_after_leg1, 0., 0.05)\n",
    "min_roll_b4_rad_cal = fpt.min_timestamp_ind(bahamas, 'roll', \n",
    "          slice('2020-01-28T19:00:00', '2020-01-28T19:20:00'),\n",
    "          order=500\n",
    "         )\n",
    "enter_rad_cal = fpt.find_first_value_after_ts_ind(bahamas, 'heading', min_roll_b4_rad_cal, 0., 1.0)\n",
    "max_roll_after_rad_cal = fpt.max_timestamp_ind(bahamas, 'roll', \n",
    "          slice('2020-01-28T19:15:00', '2020-01-28T19:30:00'),\n",
    "          order=500\n",
    "         )\n",
    "exit_rad_cal = fpt.find_first_value_before_ts_ind(bahamas, 'roll', max_roll_after_rad_cal, -10., 0.1)\n",
    "max_roll_b4_leg2 = fpt.max_timestamp_ind(bahamas, 'roll', \n",
    "          slice('2020-01-28T19:10:00', '2020-01-28T19:30:00'),\n",
    "          order=1000\n",
    "                                   )\n",
    "enter_leg2 = fpt.find_first_value_after_ts_ind(bahamas, 'roll', max_roll_b4_leg2, 0., 0.05)\n",
    "max_roll_after_leg2 = fpt.max_timestamp_ind(bahamas, 'roll', \n",
    "                                       slice('2020-01-28T19:30:00', '2020-01-28T20:00:00'),\n",
    "                                       order=1000\n",
    "                                      )\n",
    "exit_leg2 = fpt.find_first_value_before_ts_ind(bahamas, 'roll', max_roll_after_leg2, 0., 0.05)\n",
    "enter_c4 = fpt.ds_timestamp_ind(bahamas, dropsondes, 35)\n",
    "exit_c4 = fpt.ds_timestamp_ind(bahamas, dropsondes, 45)\n",
    "enter_c5 = fpt.ds_timestamp_ind(bahamas, dropsondes, 46)\n",
    "exit_c5 = fpt.ds_timestamp_ind(bahamas, dropsondes, 57)\n",
    "enter_c6 = fpt.ds_timestamp_ind(bahamas, dropsondes, 58)\n",
    "exit_c6 = fpt.ds_timestamp_ind(bahamas, dropsondes, 69)\n",
    "\n",
    "ts_ind_list = [takeoff, touchdown, enter_c1, exit_c1, enter_c2, \n",
    "               exit_c2, enter_c3, exit_c3, enter_leg1, \n",
    "               exit_leg1, enter_rad_cal, exit_rad_cal, \n",
    "               enter_leg2, exit_leg2, enter_c4, exit_c4, \n",
    "               enter_c5, exit_c5, enter_c6, exit_c6, \n",
    "               ]\n",
    "label_list = [\"takeoff\", \"touchdown\", \"enter_c1\", \"exit_c1\", \n",
    "              \"enter_c2\", \"exit_c2\", \"enter_c3\", \"exit_c3\", \n",
    "              \"enter_leg1\", \"exit_leg1\", \"enter_rad_cal\", \n",
    "              \"exit_rad_cal\", \"enter_leg2\", \"exit_leg2\", \n",
    "              \"enter_c4\", \"exit_c4\", \"enter_c5\", \"exit_c5\", \n",
    "              \"enter_c6\", \"exit_c6\", ]"
   ]
  },
  {
   "cell_type": "markdown",
   "metadata": {},
   "source": [
    "# Create basic timeseries of bahamas data with markers for determined timestamps to manually evaluate the validity of the timestamps."
   ]
  },
  {
   "cell_type": "code",
   "execution_count": null,
   "metadata": {
    "scrolled": false
   },
   "outputs": [],
   "source": [
    "fig, ax = fpt.plot_bahamas_timeseries(bahamas, ts_ind_list, label_list)"
   ]
  },
  {
   "cell_type": "markdown",
   "metadata": {},
   "source": [
    "# Create xarray datasets of the determined flight phase timestamps and store them as NetCDF files."
   ]
  },
  {
   "cell_type": "markdown",
   "metadata": {},
   "source": [
    "## Version 2"
   ]
  },
  {
   "cell_type": "code",
   "execution_count": null,
   "metadata": {
    "scrolled": false
   },
   "outputs": [],
   "source": [
    "timestamps = fpt.get_unixtime(bahamas['time'][ts_ind_list].values.reshape((int(len(ts_ind_list) / 2), 2)))\n",
    "flight_phases = np.array(['liftoff_touchdown', 'c1', 'c2', 'c3', \n",
    "                              'leg1', 'radar_calibration', 'leg2', 'c4', 'c5', 'c6'])\n",
    "flight_phase_ds = xr.Dataset(\n",
    "    {\n",
    "        \"flight_phase\": xr.DataArray(flight_phases, dims=(\"flight_phase\",)),\n",
    "        \"start_end\": xr.DataArray([\"phase_start\", \"phase_end\"], dims=(\"start_end\",)),\n",
    "        \"timestamp\": xr.DataArray(timestamps, dims=(\"flight_phase\", \"start_end\")),\n",
    "    }, \n",
    "    attrs={\n",
    "        'mission': bahamas.attrs['mission'],\n",
    "        'flight_number': bahamas.attrs['flight_number'],\n",
    "        'flight_date': str(pd.to_datetime(bahamas['time'][0].values).date()), \n",
    "        'takeoff': str(bahamas['time'][takeoff].values),\n",
    "        'touchdown': str(bahamas['time'][touchdown].values),\n",
    "        'contact': 'marc.prange@uni-hamburg.de',\n",
    "        })\n",
    "flight_phase_ds"
   ]
  },
  {
   "cell_type": "code",
   "execution_count": null,
   "metadata": {},
   "outputs": [],
   "source": [
    "flight_phase_ds.to_netcdf(\n",
    "    f'flight_phase_files/RF_{flight_phase_ds.flight_number}_' \\\n",
    "    f'{flight_phase_ds.flight_date}_flight_phase_timestamps_v2.nc')"
   ]
  },
  {
   "cell_type": "markdown",
   "metadata": {},
   "source": [
    "# Create a ResearchFlight object to represent the flight meta data."
   ]
  },
  {
   "cell_type": "code",
   "execution_count": null,
   "metadata": {},
   "outputs": [],
   "source": [
    "RF05 = ResearchFlight(name=bahamas.attrs['flight_number'],\n",
    "                      mission=bahamas.attrs['mission'],\n",
    "                      flight_id='HALO-0128',\n",
    "                      contacts=[\n",
    "                          {\n",
    "                              'name': 'Marc Prange', \n",
    "                              'email': 'marc.prange@uni-hamburg.de',\n",
    "                              'tags': ['dataset creator'],\n",
    "                          },\n",
    "                          {\n",
    "                              'name': 'Bjorn Stevens',\n",
    "                              'email': 'bjorn.stevens@mpimet.mpg.de',\n",
    "                              'tags': ['flight PI']\n",
    "                          }\n",
    "                      ],\n",
    "                      date=str(pd.to_datetime(bahamas['time'][0].values).date()),\n",
    "                      takeoff=str(bahamas['time'][takeoff].values),\n",
    "                      landing=str(bahamas['time'][touchdown].values),\n",
    "                      events=[],\n",
    "                      remarks=['Rather long excursion towards NTAS with radar calibration maneuver.',\n",
    "                               'Sugar cloud patterns within the circle.'],\n",
    ")"
   ]
  },
  {
   "cell_type": "markdown",
   "metadata": {},
   "source": [
    "# Store the flight phase information in ResearchFlightSegment objects."
   ]
  },
  {
   "cell_type": "code",
   "execution_count": null,
   "metadata": {},
   "outputs": [],
   "source": [
    "circle1 = ResearchFlightSegment(kind='circle',\n",
    "                                name='c1',\n",
    "                                start=str(bahamas[\"time\"][enter_c1].values),\n",
    "                                end=str(bahamas['time'][exit_c1].values)\n",
    "                               )\n",
    "circle2 = ResearchFlightSegment(kind='circle',\n",
    "                                name='c2',\n",
    "                                start=str(bahamas[\"time\"][enter_c2].values),\n",
    "                                end=str(bahamas['time'][exit_c2].values)\n",
    "                               )\n",
    "circle3 = ResearchFlightSegment(kind='circle',\n",
    "                                name='c3',\n",
    "                                start=str(bahamas[\"time\"][enter_c3].values),\n",
    "                                end=str(bahamas['time'][exit_c3].values)\n",
    "                               )\n",
    "leg1 = ResearchFlightSegment(kind='straight_leg',\n",
    "                             name='leg1',\n",
    "                             start=str(bahamas[\"time\"][enter_leg1].values),\n",
    "                             end=str(bahamas['time'][exit_leg1].values))\n",
    "leg2 = ResearchFlightSegment(kind='straight_leg',\n",
    "                             name='leg2',\n",
    "                             start=str(bahamas[\"time\"][enter_leg2].values),\n",
    "                             end=str(bahamas['time'][exit_leg2].values))\n",
    "circle4 = ResearchFlightSegment(kind='circle',\n",
    "                                name='c4',\n",
    "                                start=str(bahamas[\"time\"][enter_c4].values),\n",
    "                                end=str(bahamas['time'][exit_c4].values)\n",
    "                               )\n",
    "circle5 = ResearchFlightSegment(kind='circle',\n",
    "                                name='c5',\n",
    "                                start=str(bahamas[\"time\"][enter_c5].values),\n",
    "                                end=str(bahamas['time'][exit_c5].values)\n",
    "                               )\n",
    "circle5 = ResearchFlightSegment(kind='circle',\n",
    "                                name='c5',\n",
    "                                start=str(bahamas[\"time\"][enter_c5].values),\n",
    "                                end=str(bahamas['time'][exit_c5].values)\n",
    "                               )\n",
    "circle6 = ResearchFlightSegment(kind='circle',\n",
    "                                name='c6',\n",
    "                                start=str(bahamas[\"time\"][enter_c6].values),\n",
    "                                end=str(bahamas['time'][exit_c6].values)\n",
    "                               )\n",
    "radar_cal = ResearchFlightSegment(kind='radar_calibration',\n",
    "                                  name='radar_cal',\n",
    "                                  start=str(bahamas[\"time\"][enter_rad_cal].values),\n",
    "                                  end=str(bahamas['time'][exit_rad_cal].values)\n",
    "                                 )"
   ]
  },
  {
   "cell_type": "markdown",
   "metadata": {},
   "source": [
    "# Append the flight segments to the ResearchFlight object and save the object content to a .yaml file."
   ]
  },
  {
   "cell_type": "code",
   "execution_count": null,
   "metadata": {},
   "outputs": [],
   "source": [
    "RF05.append_segments([circle1, circle2, circle3, \n",
    "                      leg1, leg2, circle4, circle5, \n",
    "                      circle6, radar_cal])\n",
    "RF05.to_yaml(dirname='/Users/mprange/PycharmProjects/flight_phase_seperation/flight_phase_files/',\n",
    "             filename='RF05_info.yaml')"
   ]
  }
 ],
 "metadata": {
  "kernelspec": {
   "display_name": "Python 3",
   "language": "python",
   "name": "python3"
  },
  "language_info": {
   "codemirror_mode": {
    "name": "ipython",
    "version": 3
   },
   "file_extension": ".py",
   "mimetype": "text/x-python",
   "name": "python",
   "nbconvert_exporter": "python",
   "pygments_lexer": "ipython3",
   "version": "3.7.4"
  }
 },
 "nbformat": 4,
 "nbformat_minor": 2
}
