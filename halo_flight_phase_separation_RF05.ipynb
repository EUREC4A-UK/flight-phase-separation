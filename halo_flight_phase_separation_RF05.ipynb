{
 "cells": [
  {
   "cell_type": "code",
   "execution_count": 1,
   "metadata": {},
   "outputs": [],
   "source": [
    "import matplotlib.pyplot as plt\n",
    "import numpy as np\n",
    "import xarray as xr\n",
    "from datetime import datetime, timedelta\n",
    "import sys\n",
    "sys.path.append(\"/Users/mprange/PycharmProjects/flight_phase_seperation/\")\n",
    "\n",
    "import FlightPhaseTools as fpt\n",
    "from ResearchFlight import ResearchFlight\n",
    "from ResearchFlightSegment import ResearchFlightSegment"
   ]
  },
  {
   "cell_type": "markdown",
   "metadata": {},
   "source": [
    "# Load data into xarray datasets using typhon FileSet objects."
   ]
  },
  {
   "cell_type": "code",
   "execution_count": 2,
   "metadata": {},
   "outputs": [],
   "source": [
    "bahamas = xr.open_dataset('/Users/mprange/Desktop/halo_unified/unified/bahamas_20200128_v0.4.nc')\n",
    "dropsondes = xr.open_dataset('/Users/mprange/Desktop/halo_unified/unified/dropsondes_20200128_v0.4.nc')"
   ]
  },
  {
   "cell_type": "markdown",
   "metadata": {},
   "source": [
    "# Determine the timestamps of the different flight phases using the FlightPhaseTools module."
   ]
  },
  {
   "cell_type": "code",
   "execution_count": 3,
   "metadata": {},
   "outputs": [],
   "source": [
    "takeoff = 0\n",
    "touchdown = len(bahamas['time']) - 1\n",
    "enter_c1 = fpt.ds_timestamp_ind(bahamas, dropsondes, 0)\n",
    "exit_c1 = fpt.ds_timestamp_ind(bahamas, dropsondes, 11)\n",
    "enter_c2 = fpt.ds_timestamp_ind(bahamas, dropsondes, 12)\n",
    "exit_c2 = fpt.ds_timestamp_ind(bahamas, dropsondes, 23)\n",
    "enter_c3 = fpt.ds_timestamp_ind(bahamas, dropsondes, 24)\n",
    "exit_c3 = fpt.ds_timestamp_ind(bahamas, dropsondes, 34)\n",
    "max_roll_b4_leg1 = fpt.max_timestamp_ind(bahamas, 'roll', \n",
    "          slice('2020-01-28T18:30:00', '2020-01-28T19:00:00'),\n",
    "          order=500\n",
    "                                        )\n",
    "enter_leg1 = fpt.find_first_value_after_ts_ind(bahamas, 'roll', max_roll_b4_leg1, 0., 0.05)\n",
    "max_roll_after_leg1 = fpt.max_timestamp_ind(bahamas, 'roll', \n",
    "          slice('2020-01-28T19:00:00', '2020-01-28T19:20:00'),\n",
    "          order=500\n",
    "         )\n",
    "exit_leg1 = fpt.find_first_value_before_ts_ind(bahamas, 'roll', max_roll_after_leg1, 0., 0.05)\n",
    "min_roll_b4_rad_cal = fpt.min_timestamp_ind(bahamas, 'roll', \n",
    "          slice('2020-01-28T19:00:00', '2020-01-28T19:20:00'),\n",
    "          order=500\n",
    "         )\n",
    "enter_rad_cal = fpt.find_first_value_after_ts_ind(bahamas, 'heading', min_roll_b4_rad_cal, 0., 1.0)\n",
    "max_roll_after_rad_cal = fpt.max_timestamp_ind(bahamas, 'roll', \n",
    "          slice('2020-01-28T19:15:00', '2020-01-28T19:30:00'),\n",
    "          order=500\n",
    "         )\n",
    "exit_rad_cal = fpt.find_first_value_before_ts_ind(bahamas, 'roll', max_roll_after_rad_cal, -10., 0.1)\n",
    "max_roll_b4_leg2 = fpt.max_timestamp_ind(bahamas, 'roll', \n",
    "          slice('2020-01-28T19:10:00', '2020-01-28T19:30:00'),\n",
    "          order=1000\n",
    "                                   )\n",
    "enter_leg2 = fpt.find_first_value_after_ts_ind(bahamas, 'roll', max_roll_b4_leg2, 0., 0.05)\n",
    "max_roll_after_leg2 = fpt.max_timestamp_ind(bahamas, 'roll', \n",
    "                                       slice('2020-01-28T19:30:00', '2020-01-28T20:00:00'),\n",
    "                                       order=1000\n",
    "                                      )\n",
    "exit_leg2 = fpt.find_first_value_before_ts_ind(bahamas, 'roll', max_roll_after_leg2, 0., 0.05)\n",
    "enter_c4 = fpt.ds_timestamp_ind(bahamas, dropsondes, 35)\n",
    "exit_c4 = fpt.ds_timestamp_ind(bahamas, dropsondes, 45)\n",
    "enter_c5 = fpt.ds_timestamp_ind(bahamas, dropsondes, 46)\n",
    "exit_c5 = fpt.ds_timestamp_ind(bahamas, dropsondes, 57)\n",
    "enter_c6 = fpt.ds_timestamp_ind(bahamas, dropsondes, 58)\n",
    "exit_c6 = fpt.ds_timestamp_ind(bahamas, dropsondes, 69)\n",
    "\n",
    "ts_ind_list = [takeoff, touchdown, enter_c1, exit_c1, enter_c2, \n",
    "               exit_c2, enter_c3, exit_c3, enter_leg1, \n",
    "               exit_leg1, enter_rad_cal, exit_rad_cal, \n",
    "               enter_leg2, exit_leg2, enter_c4, exit_c4, \n",
    "               enter_c5, exit_c5, enter_c6, exit_c6, \n",
    "               ]\n",
    "label_list = [\"takeoff\", \"touchdown\", \"enter_c1\", \"exit_c1\", \n",
    "              \"enter_c2\", \"exit_c2\", \"enter_c3\", \"exit_c3\", \n",
    "              \"enter_leg1\", \"exit_leg1\", \"enter_rad_cal\", \n",
    "              \"exit_rad_cal\", \"enter_leg2\", \"exit_leg2\", \n",
    "              \"enter_c4\", \"exit_c4\", \"enter_c5\", \"exit_c5\", \n",
    "              \"enter_c6\", \"exit_c6\", ]"
   ]
  },
  {
   "cell_type": "markdown",
   "metadata": {},
   "source": [
    "# Create basic timeseries of bahamas data with markers for determined timestamps to manually evaluate the validity of the timestamps."
   ]
  },
  {
   "cell_type": "code",
   "execution_count": null,
   "metadata": {
    "scrolled": false
   },
   "outputs": [],
   "source": [
    "fig, ax = fpt.plot_bahamas_timeseries(bahamas, ts_ind_list, label_list)"
   ]
  },
  {
   "cell_type": "markdown",
   "metadata": {},
   "source": [
    "# Create xarray datasets of the determined flight phase timestamps and store them as NetCDF files."
   ]
  },
  {
   "cell_type": "markdown",
   "metadata": {},
   "source": [
    "## Version 2"
   ]
  },
  {
   "cell_type": "code",
   "execution_count": null,
   "metadata": {
    "scrolled": false
   },
   "outputs": [],
   "source": [
    "timestamps = fpt.get_unixtime(bahamas['time'][ts_ind_list].values.reshape((int(len(ts_ind_list) / 2), 2)))\n",
    "flight_phases = np.array(['liftoff_touchdown', 'c1', 'c2', 'c3', \n",
    "                              'leg1', 'radar_calibration', 'leg2', 'c4', 'c5', 'c6'])\n",
    "flight_phase_ds = xr.Dataset(\n",
    "    {\n",
    "        \"flight_phase\": xr.DataArray(flight_phases, dims=(\"flight_phase\",)),\n",
    "        \"start_end\": xr.DataArray([\"phase_start\", \"phase_end\"], dims=(\"start_end\",)),\n",
    "        \"timestamp\": xr.DataArray(timestamps, dims=(\"flight_phase\", \"start_end\")),\n",
    "    }, \n",
    "    attrs={\n",
    "        'mission': bahamas.attrs['mission'],\n",
    "        'flight_number': bahamas.attrs['flight_number'],\n",
    "        'flight_date': str(pd.to_datetime(bahamas['time'][0].values).date()), \n",
    "        'takeoff': str(bahamas['time'][takeoff].values),\n",
    "        'touchdown': str(bahamas['time'][touchdown].values),\n",
    "        'contact': 'marc.prange@uni-hamburg.de',\n",
    "        })\n",
    "flight_phase_ds"
   ]
  },
  {
   "cell_type": "code",
   "execution_count": null,
   "metadata": {},
   "outputs": [],
   "source": [
    "flight_phase_ds.to_netcdf(\n",
    "    f'flight_phase_files/RF_{flight_phase_ds.flight_number}_' \\\n",
    "    f'{flight_phase_ds.flight_date}_flight_phase_timestamps_v2.nc')"
   ]
  },
  {
   "cell_type": "markdown",
   "metadata": {},
   "source": [
    "# Create a ResearchFlight object to represent the flight meta data."
   ]
  },
  {
   "cell_type": "code",
   "execution_count": 15,
   "metadata": {},
   "outputs": [],
   "source": [
    "RF05 = ResearchFlight(name=f\"RF{bahamas.attrs['flight_number']}\",\n",
    "                      mission=bahamas.attrs['mission'],\n",
    "                      flight_id='HALO-0128',\n",
    "                      contacts=[\n",
    "                          {\n",
    "                              'name': 'Marc Prange', \n",
    "                              'email': 'marc.prange@uni-hamburg.de',\n",
    "                              'tags': ['dataset creator'],\n",
    "                          },\n",
    "                          {\n",
    "                              'name': 'Bjorn Stevens',\n",
    "                              'email': 'bjorn.stevens@mpimet.mpg.de',\n",
    "                              'tags': ['flight PI']\n",
    "                          }\n",
    "                      ],\n",
    "                      date=fpt.dt64_to_dt(bahamas['time'][takeoff].values).date(),\n",
    "                      takeoff=fpt.dt64_to_dt(bahamas['time'][takeoff].values),\n",
    "                      landing=fpt.dt64_to_dt(bahamas['time'][touchdown].values),\n",
    "                      events=[],\n",
    "                      remarks=['Rather long excursion towards NTAS with radar calibration maneuver.',\n",
    "                               'Sugar cloud patterns within the circle.'],\n",
    ")"
   ]
  },
  {
   "cell_type": "markdown",
   "metadata": {},
   "source": [
    "# Store the flight phase information in ResearchFlightSegment objects."
   ]
  },
  {
   "cell_type": "code",
   "execution_count": 6,
   "metadata": {},
   "outputs": [],
   "source": [
    "circle1 = ResearchFlightSegment(kind='circle',\n",
    "                                name='c1',\n",
    "                                start=fpt.dt64_to_dt(bahamas[\"time\"][enter_c1].values),\n",
    "                                end=fpt.dt64_to_dt(bahamas['time'][exit_c1].values)\n",
    "                               )\n",
    "circle2 = ResearchFlightSegment(kind='circle',\n",
    "                                name='c2',\n",
    "                                start=fpt.dt64_to_dt(bahamas[\"time\"][enter_c2].values),\n",
    "                                end=fpt.dt64_to_dt(bahamas['time'][exit_c2].values)\n",
    "                               )\n",
    "circle3 = ResearchFlightSegment(kind='circle',\n",
    "                                name='c3',\n",
    "                                start=fpt.dt64_to_dt(bahamas[\"time\"][enter_c3].values),\n",
    "                                end=fpt.dt64_to_dt(bahamas['time'][exit_c3].values)\n",
    "                               )\n",
    "leg1 = ResearchFlightSegment(kind='straight_leg',\n",
    "                             name='leg1',\n",
    "                             start=fpt.dt64_to_dt(bahamas[\"time\"][enter_leg1].values),\n",
    "                             end=fpt.dt64_to_dt(bahamas['time'][exit_leg1].values))\n",
    "leg2 = ResearchFlightSegment(kind='straight_leg',\n",
    "                             name='leg2',\n",
    "                             start=fpt.dt64_to_dt(bahamas[\"time\"][enter_leg2].values),\n",
    "                             end=fpt.dt64_to_dt(bahamas['time'][exit_leg2].values))\n",
    "circle4 = ResearchFlightSegment(kind='circle',\n",
    "                                name='c4',\n",
    "                                start=fpt.dt64_to_dt(bahamas[\"time\"][enter_c4].values),\n",
    "                                end=fpt.dt64_to_dt(bahamas['time'][exit_c4].values)\n",
    "                               )\n",
    "circle5 = ResearchFlightSegment(kind='circle',\n",
    "                                name='c5',\n",
    "                                start=fpt.dt64_to_dt(bahamas[\"time\"][enter_c5].values),\n",
    "                                end=fpt.dt64_to_dt(bahamas['time'][exit_c5].values)\n",
    "                               )\n",
    "circle5 = ResearchFlightSegment(kind='circle',\n",
    "                                name='c5',\n",
    "                                start=fpt.dt64_to_dt(bahamas[\"time\"][enter_c5].values),\n",
    "                                end=fpt.dt64_to_dt(bahamas['time'][exit_c5].values)\n",
    "                               )\n",
    "circle6 = ResearchFlightSegment(kind='circle',\n",
    "                                name='c6',\n",
    "                                start=fpt.dt64_to_dt(bahamas[\"time\"][enter_c6].values),\n",
    "                                end=fpt.dt64_to_dt(bahamas['time'][exit_c6].values)\n",
    "                               )\n",
    "radar_cal = ResearchFlightSegment(kind='radar_calibration',\n",
    "                                  name='radar_cal',\n",
    "                                  start=fpt.dt64_to_dt(bahamas[\"time\"][enter_rad_cal].values),\n",
    "                                  end=fpt.dt64_to_dt(bahamas['time'][exit_rad_cal].values)\n",
    "                                 )"
   ]
  },
  {
   "cell_type": "markdown",
   "metadata": {},
   "source": [
    "# Append the flight segments to the ResearchFlight object and save the object content to a .yaml file."
   ]
  },
  {
   "cell_type": "code",
   "execution_count": 13,
   "metadata": {},
   "outputs": [
    {
     "data": {
      "text/plain": [
       "{'name': 'RF05',\n",
       " 'mission': 'EUREC4A',\n",
       " 'flight_id': 'HALO-0128',\n",
       " 'contacts': [{'name': 'Marc Prange',\n",
       "   'email': 'marc.prange@uni-hamburg.de',\n",
       "   'tags': ['dataset creator']},\n",
       "  {'name': 'Bjorn Stevens',\n",
       "   'email': 'bjorn.stevens@mpimet.mpg.de',\n",
       "   'tags': ['flight PI']}],\n",
       " 'date': datetime.date(2020, 1, 28),\n",
       " 'takeoff': datetime.datetime(2020, 1, 28, 14, 58, 34),\n",
       " 'landing': datetime.datetime(2020, 1, 28, 23, 55, 17),\n",
       " 'events': [],\n",
       " 'remarks': ['Rather long excursion towards NTAS with radar calibration maneuver.',\n",
       "  'sugar cloud patterns within the circle.'],\n",
       " 'segments': [{'kind': 'circle',\n",
       "   'name': 'c1',\n",
       "   'start': datetime.datetime(2020, 1, 28, 15, 21, 54),\n",
       "   'end': datetime.datetime(2020, 1, 28, 16, 13, 3)},\n",
       "  {'kind': 'circle',\n",
       "   'name': 'c2',\n",
       "   'start': datetime.datetime(2020, 1, 28, 16, 32, 33),\n",
       "   'end': datetime.datetime(2020, 1, 28, 17, 25, 6)},\n",
       "  {'kind': 'circle',\n",
       "   'name': 'c3',\n",
       "   'start': datetime.datetime(2020, 1, 28, 17, 42, 40),\n",
       "   'end': datetime.datetime(2020, 1, 28, 18, 37, 26)},\n",
       "  {'kind': 'straight_leg',\n",
       "   'name': 'leg1',\n",
       "   'start': datetime.datetime(2020, 1, 28, 18, 41, 47),\n",
       "   'end': datetime.datetime(2020, 1, 28, 19, 1, 46)},\n",
       "  {'kind': 'straight_leg',\n",
       "   'name': 'leg2',\n",
       "   'start': datetime.datetime(2020, 1, 28, 19, 29, 47),\n",
       "   'end': datetime.datetime(2020, 1, 28, 19, 50, 47)},\n",
       "  {'kind': 'circle',\n",
       "   'name': 'c4',\n",
       "   'start': datetime.datetime(2020, 1, 28, 19, 57, 50),\n",
       "   'end': datetime.datetime(2020, 1, 28, 20, 53, 13)},\n",
       "  {'kind': 'circle',\n",
       "   'name': 'c5',\n",
       "   'start': datetime.datetime(2020, 1, 28, 21, 13, 8),\n",
       "   'end': datetime.datetime(2020, 1, 28, 22, 7, 21)},\n",
       "  {'kind': 'circle',\n",
       "   'name': 'c6',\n",
       "   'start': datetime.datetime(2020, 1, 28, 22, 29, 35),\n",
       "   'end': datetime.datetime(2020, 1, 28, 23, 23, 36)},\n",
       "  {'kind': 'radar_calibration',\n",
       "   'name': 'radar_cal',\n",
       "   'start': datetime.datetime(2020, 1, 28, 19, 7, 44),\n",
       "   'end': datetime.datetime(2020, 1, 28, 19, 25, 26)}]}"
      ]
     },
     "execution_count": 13,
     "metadata": {},
     "output_type": "execute_result"
    }
   ],
   "source": [
    "RF05.to_dictionary()"
   ]
  },
  {
   "cell_type": "code",
   "execution_count": 16,
   "metadata": {},
   "outputs": [],
   "source": [
    "RF05.append_segments([circle1, circle2, circle3, \n",
    "                      leg1, leg2, circle4, circle5, \n",
    "                      circle6, radar_cal])"
   ]
  },
  {
   "cell_type": "code",
   "execution_count": 17,
   "metadata": {},
   "outputs": [],
   "source": [
    "RF05.to_yaml(dirname='/Users/mprange/PycharmProjects/flight_phase_seperation/flight_phase_files/',\n",
    "             filename='RF05_info.yaml')"
   ]
  }
 ],
 "metadata": {
  "kernelspec": {
   "display_name": "Python 3",
   "language": "python",
   "name": "python3"
  },
  "language_info": {
   "codemirror_mode": {
    "name": "ipython",
    "version": 3
   },
   "file_extension": ".py",
   "mimetype": "text/x-python",
   "name": "python",
   "nbconvert_exporter": "python",
   "pygments_lexer": "ipython3",
   "version": "3.7.4"
  }
 },
 "nbformat": 4,
 "nbformat_minor": 2
}
