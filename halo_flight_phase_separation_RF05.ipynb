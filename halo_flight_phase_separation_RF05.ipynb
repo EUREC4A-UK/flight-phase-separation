{
 "cells": [
  {
   "cell_type": "code",
   "execution_count": null,
   "metadata": {},
   "outputs": [],
   "source": [
    "import matplotlib.pyplot as plt\n",
    "import numpy as np\n",
    "import xarray as xr\n",
    "import pandas as pd\n",
    "import sys\n",
    "sys.path.append(\"/Users/mprange/PycharmProjects/flight_phase_seperation/\")\n",
    "\n",
    "import FlightPhaseTools as fpt"
   ]
  },
  {
   "cell_type": "markdown",
   "metadata": {},
   "source": [
    "# Load data into xarray datasets using typhon FileSet objects."
   ]
  },
  {
   "cell_type": "code",
   "execution_count": null,
   "metadata": {},
   "outputs": [],
   "source": [
    "bahamas = xr.open_dataset('unified/bahamas_20200128_v0.4.nc')\n",
    "dropsondes = xr.open_dataset('unified/dropsondes_20200128_v0.4.nc')"
   ]
  },
  {
   "cell_type": "markdown",
   "metadata": {},
   "source": [
    "# Determine the timestamps of the different flight phases using the FlightPhaseTools module."
   ]
  },
  {
   "cell_type": "code",
   "execution_count": null,
   "metadata": {},
   "outputs": [],
   "source": [
    "takeoff = 0\n",
    "touchdown = len(bahamas['time']) - 1\n",
    "enter_c1 = fpt.ds_timestamp_ind(bahamas, dropsondes, 0)\n",
    "exit_c1 = fpt.ds_timestamp_ind(bahamas, dropsondes, 11)\n",
    "enter_c2 = fpt.ds_timestamp_ind(bahamas, dropsondes, 12)\n",
    "exit_c2 = fpt.ds_timestamp_ind(bahamas, dropsondes, 23)\n",
    "enter_c3 = fpt.ds_timestamp_ind(bahamas, dropsondes, 24)\n",
    "exit_c3 = fpt.ds_timestamp_ind(bahamas, dropsondes, 34)\n",
    "max_roll_b4_leg1 = fpt.max_timestamp_ind(bahamas, 'roll', \n",
    "          slice('2020-01-28T18:30:00', '2020-01-28T19:00:00'),\n",
    "          order=500\n",
    "                                        )\n",
    "enter_leg1 = fpt.find_first_value_after_ts_ind(bahamas, 'roll', max_roll_b4_leg1, 0., 0.05)\n",
    "max_roll_after_leg1 = fpt.max_timestamp_ind(bahamas, 'roll', \n",
    "          slice('2020-01-28T19:00:00', '2020-01-28T19:20:00'),\n",
    "          order=500\n",
    "         )\n",
    "exit_leg1 = fpt.find_first_value_before_ts_ind(bahamas, 'roll', max_roll_after_leg1, 0., 0.05)\n",
    "min_roll_b4_rad_cal = fpt.min_timestamp_ind(bahamas, 'roll', \n",
    "          slice('2020-01-28T19:00:00', '2020-01-28T19:20:00'),\n",
    "          order=500\n",
    "         )\n",
    "enter_rad_cal = fpt.find_first_value_after_ts_ind(bahamas, 'heading', min_roll_b4_rad_cal, 0., 1.0)\n",
    "max_roll_after_rad_cal = fpt.max_timestamp_ind(bahamas, 'roll', \n",
    "          slice('2020-01-28T19:15:00', '2020-01-28T19:30:00'),\n",
    "          order=500\n",
    "         )\n",
    "exit_rad_cal = fpt.find_first_value_before_ts_ind(bahamas, 'roll', max_roll_after_rad_cal, -10., 0.1)\n",
    "max_roll_b4_leg2 = fpt.max_timestamp_ind(bahamas, 'roll', \n",
    "          slice('2020-01-28T19:10:00', '2020-01-28T19:30:00'),\n",
    "          order=1000\n",
    "                                   )\n",
    "enter_leg2 = fpt.find_first_value_after_ts_ind(bahamas, 'roll', max_roll_b4_leg2, 0., 0.05)\n",
    "max_roll_after_leg2 = fpt.max_timestamp_ind(bahamas, 'roll', \n",
    "                                       slice('2020-01-28T19:30:00', '2020-01-28T20:00:00'),\n",
    "                                       order=1000\n",
    "                                      )\n",
    "exit_leg2 = fpt.find_first_value_before_ts_ind(bahamas, 'roll', max_roll_after_leg2, 0., 0.05)\n",
    "enter_c4 = fpt.ds_timestamp_ind(bahamas, dropsondes, 35)\n",
    "exit_c4 = fpt.ds_timestamp_ind(bahamas, dropsondes, 45)\n",
    "enter_c5 = fpt.ds_timestamp_ind(bahamas, dropsondes, 46)\n",
    "exit_c5 = fpt.ds_timestamp_ind(bahamas, dropsondes, 57)\n",
    "enter_c6 = fpt.ds_timestamp_ind(bahamas, dropsondes, 58)\n",
    "exit_c6 = fpt.ds_timestamp_ind(bahamas, dropsondes, 69)\n",
    "\n",
    "ts_ind_list = [takeoff, touchdown, enter_c1, exit_c1, enter_c2, \n",
    "           exit_c2, enter_c3, exit_c3, enter_leg1, \n",
    "           exit_leg1, enter_rad_cal, exit_rad_cal, \n",
    "           enter_leg2, exit_leg2, enter_c4, exit_c4, \n",
    "           enter_c5, exit_c5, enter_c6, exit_c6]\n",
    "label_list = [\"takeoff\", \"touchdown\", \"enter_c1\", \"exit_c1\", \n",
    "              \"enter_c2\", \"exit_c2\", \"enter_c3\", \"exit_c3\", \n",
    "              \"enter_leg1\", \"exit_leg1\", \"enter_rad_cal\", \n",
    "              \"exit_rad_cal\", \"enter_leg2\", \"exit_leg2\", \n",
    "              \"enter_c4\", \"exit_c4\", \"enter_c5\", \"exit_c5\", \n",
    "              \"enter_c6\", \"exit_c6\"]"
   ]
  },
  {
   "cell_type": "markdown",
   "metadata": {},
   "source": [
    "# Create basic timeseries of bahamas data with markers for determined timestamps to manually evaluate the validity of the timestamps."
   ]
  },
  {
   "cell_type": "code",
   "execution_count": null,
   "metadata": {
    "scrolled": false
   },
   "outputs": [],
   "source": [
    "fig, ax = fpt.plot_bahamas_timeseries(bahamas, ts_ind_list, label_list)"
   ]
  },
  {
   "cell_type": "markdown",
   "metadata": {},
   "source": [
    "# Create xarray datasets of the determined flight phase timestamps and store them as NetCDF files."
   ]
  },
  {
   "cell_type": "markdown",
   "metadata": {},
   "source": [
    "## Version 2"
   ]
  },
  {
   "cell_type": "code",
   "execution_count": null,
   "metadata": {
    "scrolled": false
   },
   "outputs": [],
   "source": [
    "time_stamps = bahamas['time'][ts_list].values.reshape((int(len(ts_ind_list) / 2), 2))\n",
    "time_stamp_labels = np.array(['liftoff_touchdown', 'c1', 'c2', 'c3', \n",
    "                              'leg1', 'radar_calibration', 'leg2', 'c4', 'c5', 'c6'])\n",
    "flight_phase_ds = xr.Dataset(\n",
    "    coords=\n",
    "    {\n",
    "        'flight_phase': (time_stamp_labels),\n",
    "        'start_end': np.array(['phase_start', 'phase_end'])\n",
    "    },\n",
    "    data_vars=\n",
    "    {\n",
    "        'timestamp': (('flight_phase', 'start_end'), time_stamps),\n",
    "    },\n",
    "    attrs=\n",
    "    {\n",
    "        'mission': bahamas.attrs['mission'],\n",
    "        'flight_number': bahamas.attrs['flight_number'],\n",
    "        'flight_date': str(pd.to_datetime(bahamas['time'][0].values).date()), \n",
    "        'contact': 'marc.prange@uni-hamburg.de',\n",
    "    }\n",
    ")\n",
    "flight_phase_ds"
   ]
  },
  {
   "cell_type": "code",
   "execution_count": null,
   "metadata": {},
   "outputs": [],
   "source": [
    "flight_phase_ds.to_netcdf(\n",
    "    f'flight_phase_timestamps/RF_{flight_phase_ds.flight_number}_' \\\n",
    "    f'{flight_phase_ds.flight_date}_flight_phase_timestamps_v2.nc')"
   ]
  }
 ],
 "metadata": {
  "kernelspec": {
   "display_name": "Python 3",
   "language": "python",
   "name": "python3"
  },
  "language_info": {
   "codemirror_mode": {
    "name": "ipython",
    "version": 3
   },
   "file_extension": ".py",
   "mimetype": "text/x-python",
   "name": "python",
   "nbconvert_exporter": "python",
   "pygments_lexer": "ipython3",
   "version": "3.7.4"
  }
 },
 "nbformat": 4,
 "nbformat_minor": 2
}
